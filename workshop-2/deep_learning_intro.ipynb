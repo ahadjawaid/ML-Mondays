{
 "cells": [
  {
   "cell_type": "markdown",
   "id": "0e20f3fa",
   "metadata": {},
   "source": [
    "# Intro to Deep Learning: Parameterized Functions\n",
    "\n",
    "In the context of neural networks, a parameterized function is a mathematical function whose behavior is defined by adjustable  parameters, typically represented by the weights and biases in the network. \n",
    "\n",
    "In practice, these parameters are learned from data during the training process, allowing neural networks to adapt and create complex relationships, making them tools for tasks like image recognition, natural language processing, and creating predictions.\n"
   ]
  },
  {
   "cell_type": "markdown",
   "id": "a1cb827a",
   "metadata": {},
   "source": [
    "## Example of a Parameterized Function\n",
    "\n",
    "Lets show an example of a parameterized function using Python.\n",
    "\n",
    "The following function can resemble the operation of a single neuron in a neural network, specifically a neuron \n",
    "in a network with two input features, age and size, and two associated weights (which can be positive or negative).\n",
    "\n",
    "### Formula: \n",
    "House Price = Weight1 * Age + Weight2 * Size"
   ]
  },
  {
   "cell_type": "code",
   "execution_count": null,
   "id": "5a7bcc98",
   "metadata": {},
   "outputs": [],
   "source": [
    "# Run a cell by clicking \"Run\" on the top or the icon on the left. \n",
    "\n",
    "def predict_house_price(age, size, weight1, weight2):\n",
    "    prediction = (weight1 * age) + (weight2 * size)\n",
    "    return prediction"
   ]
  },
  {
   "cell_type": "markdown",
   "id": "a05d5790",
   "metadata": {},
   "source": [
    "Try to input your own weight values to get an output.\n",
    "\n",
    "Let's assume our actual house price is $400000, what weight values would allow our parameterized function to\n",
    "predict this correct value?   "
   ]
  },
  {
   "cell_type": "code",
   "execution_count": null,
   "id": "524004a8",
   "metadata": {},
   "outputs": [],
   "source": [
    "house_age = 10\n",
    "house_size = 1500\n",
    "\n",
    "weight_age = 0\n",
    "weight_size = 0\n",
    "\n",
    "predicted_price = predict_house_price(house_age, house_size, weight_age, weight_size)\n",
    "print(f\"Predicted House Price Value: {predicted_price}\")"
   ]
  },
  {
   "cell_type": "markdown",
   "id": "02f89bb4",
   "metadata": {},
   "source": [
    "## Biases and Activation Functions\n",
    "\n",
    "Now, lets introduce introduce a constant bias term and an activation function to our house prediction function.\n",
    "\n",
    "In deep learning models, the bias term helps models consider a starting point, such as our house having a value even \n",
    "when weighted age and size is equal to zero. \n",
    "\n",
    "Activation functions allow the model to introduce non-linearity, which is useful when incorporating \n",
    "multiple layers of neurons in a neural network. This non-linearity enables the network to learn and represent \n",
    "more intricate relationships within the data, making it capable of handling complex real-world problems. \n",
    "\n",
    "There are many different activation functions you can utilize within deep learning. For this example,\n",
    "we are incorporating the commonly used reLU function for our prediction. All this one does is replace \n",
    "any negative input with zero and leaves positive values unchanged.\n",
    "\n",
    "### Formula: \n",
    "House Price = reLU((Weight1 * Age + Weight2 * Size) + Bias)"
   ]
  },
  {
   "cell_type": "code",
   "execution_count": null,
   "id": "9bd28ca7",
   "metadata": {},
   "outputs": [],
   "source": [
    "def relu(x):\n",
    "    return max(0, x)\n",
    "\n",
    "def predict_house_price_2(age, size, weight_age, weight_size, bias):\n",
    "    z = (weight_age * age) + (weight_size * size) + bias\n",
    "    prediction = relu(z)\n",
    "    return prediction"
   ]
  },
  {
   "cell_type": "markdown",
   "id": "b322aafb",
   "metadata": {},
   "source": [
    "Once again, you can input your own weight and bias values to get an output. "
   ]
  },
  {
   "cell_type": "code",
   "execution_count": null,
   "id": "e5d32b2b",
   "metadata": {},
   "outputs": [],
   "source": [
    "house_age = 10\n",
    "house_size = 1500\n",
    "\n",
    "bias = 0\n",
    "weight_age = 0\n",
    "weight_size = 0\n",
    "\n",
    "predicted_price = predict_house_price_2(house_age, house_size, weight_age, weight_size, bias)\n",
    "print(f\"Predicted House Price Value: {predicted_price}\")"
   ]
  }
 ],
 "metadata": {
  "kernelspec": {
   "display_name": "Python 3 (ipykernel)",
   "language": "python",
   "name": "python3"
  },
  "language_info": {
   "codemirror_mode": {
    "name": "ipython",
    "version": 3
   },
   "file_extension": ".py",
   "mimetype": "text/x-python",
   "name": "python",
   "nbconvert_exporter": "python",
   "pygments_lexer": "ipython3",
   "version": "3.7.4"
  }
 },
 "nbformat": 4,
 "nbformat_minor": 5
}
