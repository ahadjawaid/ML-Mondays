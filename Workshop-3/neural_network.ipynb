{
  "nbformat": 4,
  "nbformat_minor": 0,
  "metadata": {
    "colab": {
      "provenance": []
    },
    "kernelspec": {
      "name": "python3",
      "display_name": "Python 3"
    },
    "language_info": {
      "name": "python"
    }
  },
  "cells": [
    {
      "cell_type": "markdown",
      "source": [
        "#Intro to Deep Learning: Neural Networks from Scratch\n"
      ],
      "metadata": {
        "id": "fm84YT5Shl1V"
      }
    },
    {
      "cell_type": "markdown",
      "source": [
        "We are importing 3 libraries:\n",
        "- Pytorch --> Pytorch is the deep learning framework that is used for any deep learning tasks. Although we can let pytorch do the backpropagation for us, we will implement it ourselves from scratch to see how it works.\n",
        "\n",
        "- Matplotlib --> To help vizualize our data and view graphs for the loss.\n",
        "\n",
        "- Numpy --> To help manipulate arrays and plot them using matplotlib."
      ],
      "metadata": {
        "id": "B_0Dt-PNhzJL"
      }
    },
    {
      "cell_type": "code",
      "execution_count": 208,
      "metadata": {
        "id": "5fZF2nXVPVtG"
      },
      "outputs": [],
      "source": [
        "import torch\n",
        "import matplotlib.pyplot as plt\n",
        "import numpy as np"
      ]
    },
    {
      "cell_type": "markdown",
      "source": [
        "Run the code below to pick how many inputs and outputs you want for this example."
      ],
      "metadata": {
        "id": "8lOhQo8HcTq0"
      }
    },
    {
      "cell_type": "code",
      "source": [
        "num_inputs = int(input(\"Enter the number of inputs you want\"))\n",
        "num_outputs = int(input(\"Enter the number outputs you want\"))"
      ],
      "metadata": {
        "colab": {
          "base_uri": "https://localhost:8080/"
        },
        "id": "K7gpy32VcTIu",
        "outputId": "0f708cdf-5b0a-40cb-834b-89eb360057a5"
      },
      "execution_count": 314,
      "outputs": [
        {
          "name": "stdout",
          "output_type": "stream",
          "text": [
            "Enter the number of inputs you want100\n",
            "Enter the number outputs you want50\n"
          ]
        }
      ]
    },
    {
      "cell_type": "markdown",
      "source": [
        "For the sake of this example, we can make our own random dataset.\n",
        "torch.randn() takes input as the shape of the data we want to create.\n",
        "The reason why the 1 is first is to represent the batch_size.\n",
        "Normally, datasets contain thousands, even millions of samples and models are trained using batches of the data.\n",
        "To keep things simple, we'll just have a one sample dataset(which is not a good idea in the real world!)"
      ],
      "metadata": {
        "id": "mWDi39tQiSPo"
      }
    },
    {
      "cell_type": "code",
      "source": [
        "x = torch.randn(1, num_inputs)\n",
        "y = torch.randn(1, num_outputs)"
      ],
      "metadata": {
        "id": "raGxOtytyaLd"
      },
      "execution_count": 325,
      "outputs": []
    },
    {
      "cell_type": "markdown",
      "source": [
        "For this neural network, we will use two linear(hidden) layers."
      ],
      "metadata": {
        "id": "Owcmse4Fe72Z"
      }
    },
    {
      "cell_type": "markdown",
      "source": [
        "Remember that each linear(hidden) layer contains a weight matrix num_inputs * num_outputs. The num_outputs of the first linear layer should equal the num_inputs of the second linear layer."
      ],
      "metadata": {
        "id": "d7-qvXl0fDkQ"
      }
    },
    {
      "cell_type": "code",
      "source": [
        "w1 = torch.randn(50, num_inputs)\n",
        "b1 = torch.randn(50)\n",
        "\n",
        "w2 = torch.randn(num_outputs, 50)\n",
        "b2 = torch.randn(num_outputs)"
      ],
      "metadata": {
        "id": "vq8qHgEWe8CN"
      },
      "execution_count": 324,
      "outputs": []
    },
    {
      "cell_type": "markdown",
      "source": [
        "The ReLU activation that clips all values below 0 to equal 0."
      ],
      "metadata": {
        "id": "t6nKN5FZtnWG"
      }
    },
    {
      "cell_type": "code",
      "source": [
        "def relu(x):\n",
        "  return torch.clip(x, min=0)"
      ],
      "metadata": {
        "id": "ftTT_70ap3Mj"
      },
      "execution_count": 306,
      "outputs": []
    },
    {
      "cell_type": "markdown",
      "source": [
        "Run the code below to enter how many epochs you want.\n",
        "Epoch is the term used in deep learning that just means how many times you want to tweak the model's weights. To begin with, enter 10 as the number of epochs."
      ],
      "metadata": {
        "id": "xA-JSsjZgRiQ"
      }
    },
    {
      "cell_type": "code",
      "source": [
        "num_epochs = int(input(\"Enter the number of epochs\"))"
      ],
      "metadata": {
        "colab": {
          "base_uri": "https://localhost:8080/"
        },
        "id": "ja5VBqAhgGjS",
        "outputId": "7dbe2b7c-ade6-40f2-b17d-8261d574e768"
      },
      "execution_count": 273,
      "outputs": [
        {
          "name": "stdout",
          "output_type": "stream",
          "text": [
            "Enter the number of epochs10\n"
          ]
        }
      ]
    },
    {
      "cell_type": "markdown",
      "source": [
        "Run the code below to enter the learning rate you want. Learning rate is basically how much of the slope do you want to use to tweak the model's weights. Essentially, how fast the model's weights will approach the minimum error. However, you will see that having a higher learning rate may not always be the best idea. To begin with, enter 0.00001 as the learning rate. This is around the range that you will see the learning rates in the real world."
      ],
      "metadata": {
        "id": "sxrn8_vHg07Q"
      }
    },
    {
      "cell_type": "code",
      "source": [
        "learning_rate = float(input(\"Enter the learning rate\"))"
      ],
      "metadata": {
        "colab": {
          "base_uri": "https://localhost:8080/"
        },
        "id": "UgOpgZsmiSA7",
        "outputId": "ee8ab2ff-0488-4568-cb94-26b4db0b0b06"
      },
      "execution_count": 323,
      "outputs": [
        {
          "name": "stdout",
          "output_type": "stream",
          "text": [
            "Enter the learning rate0.00001\n"
          ]
        }
      ]
    },
    {
      "cell_type": "markdown",
      "source": [
        "The next bit is a tad bit complex so a few notes:\n",
        "\n",
        "- @ is basically computing the dot product of the inputs with the weights in the hidden layer\n",
        "- dot product is the the sum of the products inputs * weights\n",
        "\n",
        "- .t() is taking the transpose of a matrix. Transpose basically just means switching the dimensions of the matrix.\n",
        "\n",
        "- For the slope calculation, we are using the chain rule and the power rule to compute the derivatives(another word for slope!) of the weights and biases\n",
        "\n",
        "- .size(0) is just the number of elements(numbers) in the first dimension\n",
        "\n",
        "(If you really want to understand the calculation behind the slopes, then look into partial derviatives, gradients, and chain rule. If you take the time to learn it, then it should not be that complicated to understand)"
      ],
      "metadata": {
        "id": "Q6z-Kkb6jwwu"
      }
    },
    {
      "cell_type": "code",
      "source": [
        "losses = []\n",
        "\n",
        "for _ in range(num_epochs):\n",
        "\n",
        "    # Forward pass\n",
        "    h1 = x @ w1.t() + b1\n",
        "    h1_relu = relu(h1)  # Apply ReLU activation\n",
        "    h2 = h1_relu @ w2.t() + b2\n",
        "\n",
        "    # Calculate the loss/error\n",
        "    loss = torch.mean((h2 - y) ** 2)\n",
        "\n",
        "    # Calculate the slopes at each step in the network\n",
        "    dw2 = (2 / y.size(0)) * ((h2 - y).t() @ h1_relu)\n",
        "    db2 = (2 / y.size(0)) * torch.sum(h2 - y, dim=0)\n",
        "\n",
        "    dh1_relu = (h2 - y) @ w2  # Slope at the ReLU layer\n",
        "    dh1 = dh1_relu * (h1 > 0).float()  # Applying the slope of the ReLU function\n",
        "\n",
        "    dw1 = (2 / y.size(0)) * (dh1.t() @ x)\n",
        "    db1 = (2 / y.size(0)) * torch.sum(dh1, dim=0)\n",
        "\n",
        "    # Update parameters\n",
        "    w1 = w1 - learning_rate * dw1\n",
        "    b1 = b1 - learning_rate * db1\n",
        "    w2 = w2 - learning_rate * dw2\n",
        "    b2 = b2 - learning_rate * db2\n",
        "\n",
        "    # For plotting our loss graph later\n",
        "    losses.append(loss)"
      ],
      "metadata": {
        "id": "6LTDeCcxPtXT"
      },
      "execution_count": 326,
      "outputs": []
    },
    {
      "cell_type": "markdown",
      "source": [
        "This segment of the code just shows the loss graph. If our model trained correctly, we should see the loss go down to a certain minimum and then sort of flatten out."
      ],
      "metadata": {
        "id": "ugMoqcVwpTpA"
      }
    },
    {
      "cell_type": "code",
      "source": [
        "plt.plot([i for i in range(len(losses))], np.array([loss.detach() for loss in losses]))\n",
        "plt.xlabel(\"Epoch\")\n",
        "plt.ylabel(\"Loss\")\n",
        "plt.show()"
      ],
      "metadata": {
        "colab": {
          "base_uri": "https://localhost:8080/",
          "height": 449
        },
        "id": "0q0hAwsFRDQo",
        "outputId": "a1ebcb2c-ca7a-4833-814e-58446fdf6527"
      },
      "execution_count": 327,
      "outputs": [
        {
          "output_type": "display_data",
          "data": {
            "text/plain": [
              "<Figure size 640x480 with 1 Axes>"
            ],
            "image/png": "[encoded data removed]"
          },
          "metadata": {}
        }
      ]
    }
  ]
}