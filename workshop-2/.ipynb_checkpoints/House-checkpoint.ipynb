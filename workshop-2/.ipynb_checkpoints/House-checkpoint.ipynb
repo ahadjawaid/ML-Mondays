{
 "cells": [
  {
   "cell_type": "code",
   "execution_count": null,
   "id": "0be0170d",
   "metadata": {},
   "outputs": [
    {
     "name": "stdout",
     "output_type": "stream",
     "text": [
      "| 13830 - 14000 |  = 170\n"
     ]
    }
   ],
   "source": [
    "print(f\"| 13830 - 14000 |  = {abs(13830-14000)}\")"
   ]
  },
  {
   "cell_type": "code",
   "execution_count": null,
   "id": "ab83220e",
   "metadata": {},
   "outputs": [],
   "source": [
    "# Importing required interactive widgets\n",
    "from ipywidgets import interact, FloatSlider, HTML\n",
    "import matplotlib.pyplot as plt\n",
    "from matplotlib.colors import LinearSegmentedColormap\n",
    "\n",
    "age = 15\n",
    "size = 3000\n",
    "\n",
    "def weighted_house_price(weight_age, weight_size, age, size):\n",
    "    price = weight_age * age + weight_size * size\n",
    "\n",
    "    return price\n",
    "\n",
    "def visualize_price_html(price, error):\n",
    "    red_color = \"#dc2626\"\n",
    "    green_color = \"#059669\"\n",
    "    \n",
    "    loss_color = green_color if error / (price + 1e-8)  < 0.1 else red_color\n",
    "\n",
    "    # Display the price with the background color\n",
    "    display(HTML(f\"<div style='color: white; background-color: {color}; text-align: center; width: 150px; height: 25px;'>{price:.2f}</div>\"))\n",
    "    display(HTML(f\"<div style='color: white; background-color: {green_color}; text-align: center; width: 150px; height: 25px;'>{error:.2f}</div>\"))\n",
    "\n",
    "def interactive_house_price(weight_age=0.5, weight_size=0.5):\n",
    "    # Calculate the weighted house price\n",
    "    price = weighted_house_price(weight_age, weight_size, age, size)\n",
    "    actual_price = 14000\n",
    "    print(f\"Age: {age}, Size: {size}, Actual Price: {actual_price}\")\n",
    "    print(f\"Age: {10}, Size: {2500}, Actual Price: {16000}\")\n",
    "    # Visualize the price\n",
    "    visualize_price_html(price, abs(price-actual_price))\n",
    "\n",
    "# Create sliders for weights\n",
    "weight_age_slider = FloatSlider(min=-50, max=50, step=2, value=0, description='Age Weight')\n",
    "weight_size_slider = FloatSlider(min=0, max=10, step=0.1, value=0, description='Size Weight')\n",
    "\n",
    "# Generate the interactive plot\n",
    "interact(interactive_house_price, weight_age=weight_age_slider, weight_size=weight_size_slider);\n"
   ]
  },
  {
   "cell_type": "code",
   "execution_count": null,
   "id": "ae369569",
   "metadata": {},
   "outputs": [
    {
     "data": {
      "text/plain": [
       "6708.0"
      ]
     },
     "execution_count": null,
     "metadata": {},
     "output_type": "execute_result"
    }
   ],
   "source": [
    "# Testing the function\n",
    "age = 7\n",
    "size = 1500\n",
    "\n",
    "age_weight = -6\n",
    "size_weight = 4.5\n",
    "\n",
    "weighted_house_price(age_weight, size_weight, age, size)"
   ]
  },
  {
   "cell_type": "code",
   "execution_count": null,
   "id": "dc5b63b8",
   "metadata": {},
   "outputs": [],
   "source": []
  },
  {
   "cell_type": "code",
   "execution_count": null,
   "id": "bd104c4d",
   "metadata": {},
   "outputs": [],
   "source": []
  }
 ],
 "metadata": {
  "kernelspec": {
   "display_name": "python3",
   "language": "python",
   "name": "python3"
  }
 },
 "nbformat": 4,
 "nbformat_minor": 5
}
